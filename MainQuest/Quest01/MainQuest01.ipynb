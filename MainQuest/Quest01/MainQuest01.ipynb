{
  "nbformat": 4,
  "nbformat_minor": 0,
  "metadata": {
    "colab": {
      "provenance": [],
      "authorship_tag": "ABX9TyPcJ3ftquPZ1LZS7U8XAUce",
      "include_colab_link": true
    },
    "kernelspec": {
      "name": "python3",
      "display_name": "Python 3"
    },
    "language_info": {
      "name": "python"
    }
  },
  "cells": [
    {
      "cell_type": "markdown",
      "metadata": {
        "id": "view-in-github",
        "colab_type": "text"
      },
      "source": [
        "<a href=\"https://colab.research.google.com/github/gong-aipel/AIFFEL_quest-cr/blob/main/MainQuest/Quest01/MainQuest01.ipynb\" target=\"_parent\"><img src=\"https://colab.research.google.com/assets/colab-badge.svg\" alt=\"Open In Colab\"/></a>"
      ]
    },
    {
      "cell_type": "code",
      "source": [
        "import random\n",
        "\n",
        "class Account:\n",
        "    def __init__(self, owner, balance):\n",
        "        self.bank = \"SC은행\"\n",
        "        self.owner = owner\n",
        "        self.balance =balance\n",
        "\n",
        "        self.account_number = f\"{random.radient(100.999)}-{random.radient(10,99)}-{random.radient(100000, 999999)}\""
      ],
      "metadata": {
        "id": "fKlAVeR46uX-"
      },
      "execution_count": 1,
      "outputs": []
    },
    {
      "cell_type": "code",
      "source": [
        "class Account:\n",
        "    account_count =0\n",
        "\n",
        "    def __init__(self, owner,balance):\n",
        "        self.bank =\" SC은행\"\n",
        "        self.owner = owner\n",
        "        self.balance = balance\n",
        "        self.account_number = f\"{rnadom.radient(100,999)}-{random.randint(10, 99)}-{random.randint(100000, 999999)}\"\n",
        "\n",
        "        Account.account_count += 1"
      ],
      "metadata": {
        "id": "rC9AhPEg8A_0"
      },
      "execution_count": 2,
      "outputs": []
    },
    {
      "cell_type": "code",
      "source": [
        "class Account:\n",
        "    account_count = 0\n",
        "\n",
        "    def __init__(self, owner, balance):\n",
        "        self.bank = \"SC은행\"\n",
        "        self.owner = owner\n",
        "        self.balance = balance\n",
        "        self.account_number = f\"{random.randint(100, 999)}-{random.randint(10, 99)}-{random.randint(100000, 999999)}\"\n",
        "        Account.account_count += 1\n",
        "\n",
        "    # 클래스 메서드로 계좌 개수 반환\n",
        "    @classmethod\n",
        "    def get_account_num(cls):\n",
        "        return cls.account_count\n",
        "\n",
        "    print(account_count)"
      ],
      "metadata": {
        "colab": {
          "base_uri": "https://localhost:8080/"
        },
        "id": "hfzZTR759Wux",
        "outputId": "592a13e5-0991-4697-decf-eab24e9275a2"
      },
      "execution_count": 4,
      "outputs": [
        {
          "output_type": "stream",
          "name": "stdout",
          "text": [
            "0\n"
          ]
        }
      ]
    },
    {
      "cell_type": "code",
      "source": [
        "class Account:\n",
        "    account_count = 0\n",
        "\n",
        "    def __init__(self, owner, balance):\n",
        "        self.bank = \"SC은행\"\n",
        "        self.owner = owner\n",
        "        self.balance = balance\n",
        "        self.account_number = f\"{random.randint(100, 999)}-{random.randint(10, 99)}-{random.randint(100000, 999999)}\"\n",
        "        Account.account_count += 1\n",
        "\n",
        "    @classmethod\n",
        "    def get_account_num(cls):\n",
        "        return cls.account_count\n",
        "\n",
        "    def deposit(self, amount):\n",
        "        if amount >= 1:\n",
        "            self.balance += amount\n",
        "            print(f\"{amount}원이 입금되었습니다. 현재 잔액: {self.balance}원\")\n",
        "        else:\n",
        "            print(\"입금은 1원 이상만 가능합니다.\")"
      ],
      "metadata": {
        "id": "QayeZDYc9uDC"
      },
      "execution_count": 48,
      "outputs": []
    },
    {
      "cell_type": "code",
      "source": [
        "class Account:\n",
        "    account_count = 0\n",
        "\n",
        "    def __init__(self, owner, balance):\n",
        "        self.bank = \"SC은행\"\n",
        "        self.owner = owner\n",
        "        self.balance = balance\n",
        "        self.account_number = f\"{random.randint(100, 999)}-{random.randint(10, 99)}-{random.randint(100000, 999999)}\"\n",
        "        Account.account_count += 1\n",
        "\n",
        "    @classmethod\n",
        "    def get_account_num(cls):\n",
        "        return cls.account_count\n",
        "\n",
        "    def deposit(self, amount):\n",
        "        if amount >= 1:\n",
        "            self.balance += amount\n",
        "            print(f\"{amount}원이 입금되었습니다. 현재잔액: {self.balance}원\")\n",
        "        else:\n",
        "            print(\"입금은 1원 이상만 가능합니다.\")\n",
        "\n",
        "    print(account_count)\n",
        ""
      ],
      "metadata": {
        "colab": {
          "base_uri": "https://localhost:8080/"
        },
        "id": "v3CZVUSK-FNa",
        "outputId": "17aa84bb-2f0a-466f-fc7f-748b43c1f79b"
      },
      "execution_count": 8,
      "outputs": [
        {
          "output_type": "stream",
          "name": "stdout",
          "text": [
            "0\n"
          ]
        }
      ]
    },
    {
      "cell_type": "code",
      "source": [
        "class Account:\n",
        "    account_count = 0\n",
        "\n",
        "    def __init__(self, owner, balance):\n",
        "        self.bank = \"SC은행\"\n",
        "        self.owner = owner\n",
        "        self.balance = balance\n",
        "        self.account_number = f\"{random.randint(100, 999)}-{random.randint(10, 99)}-{random.randint(100000, 999999)}\"\n",
        "        Account.account_count += 1\n",
        "\n",
        "    @classmethod\n",
        "    def get_account_num(cls):\n",
        "        return cls.account_count\n",
        "\n",
        "    def deposit(self, amount):\n",
        "        if amount >= 1:\n",
        "            self.balance += amount\n",
        "            print(f\"{amount}원이 입금되었습니다. 현재 잔액: {self.balance}원\")\n",
        "        else:\n",
        "            print(\"입금은 1원 이상만 가능합니다.\")\n",
        "\n",
        "    def withdraw(self, amount):\n",
        "        if self.balance >= amount:\n",
        "            self.balance -= amount\n",
        "            print(f\"{amount}원이 출금되었습니다. 현재 잔액: {self.balance}원\")\n",
        "        else:\n",
        "            print(\"잔액이 부족합니다.\")\n",
        "\n",
        "    def withdraw(self, amount):\n",
        "        if self.balance >= amount:\n",
        "            self.balance -= amount\n",
        "            print(f\"{amount}원이 출금되었습니다. 현재 잔액: {self.balance}원\")\n",
        "        else:\n",
        "            print(\"잔액이 부족합니다\")\n",
        "\n",
        "    print(withdraw)"
      ],
      "metadata": {
        "colab": {
          "base_uri": "https://localhost:8080/"
        },
        "id": "8khFxPN7AtES",
        "outputId": "17d531b9-514f-4515-b41a-dcc911861345"
      },
      "execution_count": 10,
      "outputs": [
        {
          "output_type": "stream",
          "name": "stdout",
          "text": [
            "<function Account.withdraw at 0x7b6e6375fb00>\n"
          ]
        }
      ]
    },
    {
      "cell_type": "code",
      "source": [
        "acc1 = Account(\"공옥례\", 100000)\n",
        "acc2 = Account(\"이영빈\", 500000)\n",
        "\n",
        "print(f\"총 계좌 개수: {Account.get_account_num()}\")\n",
        "\n",
        "acc1.deposit(500000)\n",
        "acc1.withdraw(200000)\n",
        "acc2.withdraw(100000)"
      ],
      "metadata": {
        "colab": {
          "base_uri": "https://localhost:8080/"
        },
        "id": "34RUJ7BKLtmW",
        "outputId": "874bdb8f-6cd8-4a30-f376-f92799fe0768"
      },
      "execution_count": 11,
      "outputs": [
        {
          "output_type": "stream",
          "name": "stdout",
          "text": [
            "총 계좌 개수: 2\n",
            "500000원이 입금되었습니다. 현재 잔액: 600000원\n",
            "200000원이 출금되었습니다. 현재 잔액: 400000원\n",
            "100000원이 출금되었습니다. 현재 잔액: 400000원\n"
          ]
        }
      ]
    },
    {
      "cell_type": "code",
      "source": [
        "import random  # 계좌번호 생성을 위한 random 모듈\n",
        "\n",
        "class Account:  # 클래스 이름을 수정: Acount -> Account\n",
        "    def __init__(self, owner, balance):\n",
        "        self.bank = \"SC은행\"\n",
        "        self.owner = owner\n",
        "        self.balance = balance\n",
        "        self.account_number = f\"{random.randint(100, 999)}-{random.randint(10, 99)}-{random.randint(100000, 999999)}\"\n",
        "        self.deposit_count = 0  # 입금 횟수를 저장\n",
        "\n",
        "    def display_info(self):\n",
        "        # 잔고에 3자리마다 쉼표를 넣어 출력\n",
        "        balance_with_commas = f\"{self.balance:,}원\"\n",
        "        print(f\"은행이름: {self.bank}, 예금주: {self.owner}, 계좌번호: {self.account_number}, 잔고: {balance_with_commas}\")\n",
        "\n",
        "    def deposit(self, amount):\n",
        "        if amount >= 1:\n",
        "            self.balance += amount\n",
        "            self.deposit_count += 1  # 입금 횟수 증가\n",
        "\n",
        "            # 입금을 5번 하면 이자 지급\n",
        "            if self.deposit_count % 5 == 0:\n",
        "                interest = self.balance * 0.01\n",
        "                self.balance += interest\n",
        "                print(f\"이자가 지급되었습니다! 잔고: {self.balance:,}원\")\n",
        "\n",
        "# Account 클래스에서 객체 생성 및 입금\n",
        "account = Account(\"공옥례\", 10000)\n",
        "account.deposit(1000)\n",
        "account.deposit(2000)\n",
        "account.deposit(3000)\n",
        "account.deposit(4000)\n",
        "account.deposit(5000)  # 이자 지급 시점\n",
        "\n",
        "# 계좌 정보 출력\n",
        "account.display_info()\n"
      ],
      "metadata": {
        "colab": {
          "base_uri": "https://localhost:8080/"
        },
        "id": "j4crVOAwwroS",
        "outputId": "d4fef2d5-1a53-46e1-af91-03e4486eb736"
      },
      "execution_count": 25,
      "outputs": [
        {
          "output_type": "stream",
          "name": "stdout",
          "text": [
            "이자가 지급되었습니다! 잔고: 25,250.0원\n",
            "은행이름: SC은행, 예금주: 공옥례, 계좌번호: 255-17-644084, 잔고: 25,250.0원\n"
          ]
        }
      ]
    },
    {
      "cell_type": "code",
      "source": [
        "accounts = [Account(\"홍길동\", 500000),Account(\"김철수\", 1000000),Account(\"이영희\", 200000),]\n",
        "\n",
        "for account in accounts:\n",
        "    if account.balance >= 1000000:\n",
        "        account.display_info()\n",
        "\n",
        "def withdraw(self, amount):\n",
        "        if self.balance >= amount:\n",
        "            self.balance -= amount\n",
        "            self.withdraw_history.append(amount)  # 출금 내역 저장\n",
        "\n",
        "def show_history(self):\n",
        "        print(\"입금 내역:\", self.deposit_history)\n",
        "        print(\"출금 내역:\", self.withdraw_history)"
      ],
      "metadata": {
        "colab": {
          "base_uri": "https://localhost:8080/"
        },
        "id": "mN3s1RpWtLGj",
        "outputId": "3f4ee49b-b0b7-4c7c-8f8f-9e3b55a151b8"
      },
      "execution_count": 29,
      "outputs": [
        {
          "output_type": "stream",
          "name": "stdout",
          "text": [
            "은행이름: SC은행, 예금주: 김철수, 계좌번호: 408-15-656677, 잔고: 1,000,000원\n"
          ]
        }
      ]
    },
    {
      "cell_type": "code",
      "source": [
        "import random  # 랜덤 데미지 생성을 위한 모듈\n",
        "\n",
        "class Character:\n",
        "    def __init__(self, name, level, health, attack, defense):\n",
        "        self.name = name  # 캐릭터 이름\n",
        "        self.level = level  # 레벨\n",
        "        self.health = health  # 체력\n",
        "        self.attack = attack  # 공격력\n",
        "        self.defense = defense  # 방어력\n",
        "\n",
        "    def is_alive(self):\n",
        "        \"\"\"현재 체력이 0 이상인지 확인하는 메서드\"\"\"\n",
        "        return self.health > 0\n",
        "\n",
        "    def take_damage(self, damage):\n",
        "        \"\"\"받은 데미지를 바탕으로 체력을 감소시키는 메서드\"\"\"\n",
        "        # 받은 데미지에서 방어력을 뺀 값이 0 이상일 경우 체력 감소\n",
        "        damage_taken = max(damage - self.defense, 0)  # 방어력이 데미지보다 크면 0으로 처리\n",
        "        self.health -= damage_taken\n",
        "        if self.health < 0:\n",
        "            self.health = 0  # 체력이 0보다 낮아지지 않도록\n",
        "\n",
        "    def attack_target(self, target):\n",
        "        \"\"\"타겟에게 공격을 가하는 메서드\"\"\"\n",
        "        # 랜덤한 데미지 계산 (1부터 공격력까지)\n",
        "        damage = random.randint(1, self.attack)\n",
        "        print(f\"{self.name}이(가) {target.name}에게 {damage}의 데미지를 입혔습니다.\")\n",
        "        target.take_damage(damage)  # 타겟에게 데미지를 적용\n",
        "        print(f\"{target.name}의 남은 체력: {target.health}원\")\n",
        "\n",
        "# 캐릭터 객체 생성\n",
        "character1 = Character(\"기사\", 10, 100, 30, 10)\n",
        "character2 = Character(\"마법사\", 8, 80, 25, 5)\n",
        "\n",
        "# 공격 예시\n",
        "character1.attack_target(character2)"
      ],
      "metadata": {
        "colab": {
          "base_uri": "https://localhost:8080/"
        },
        "id": "RrkdxMBg9oOz",
        "outputId": "66941d2f-1615-49fa-acee-11a3380fbf44"
      },
      "execution_count": 44,
      "outputs": [
        {
          "output_type": "stream",
          "name": "stdout",
          "text": [
            "기사이(가) 마법사에게 9의 데미지를 입혔습니다.\n",
            "마법사의 남은 체력: 76원\n"
          ]
        }
      ]
    },
    {
      "cell_type": "code",
      "source": [
        "import random\n",
        "\n",
        "# Character 클래스 (기본 클래스)\n",
        "class Character:\n",
        "    def __init__(self, name, level, health, attack, defense):\n",
        "        self.name = name\n",
        "        self.level = level\n",
        "        self.health = health\n",
        "        self.attack = attack\n",
        "        self.defense = defense\n",
        "\n",
        "    def is_alive(self):\n",
        "        \"\"\"현재 체력이 0 이상인지 확인하는 메서드\"\"\"\n",
        "        return self.health > 0\n",
        "\n",
        "    def take_damage(self, damage):\n",
        "        \"\"\"받은 데미지를 바탕으로 체력을 감소시키는 메서드\"\"\"\n",
        "        damage_taken = max(damage - self.defense, 0)\n",
        "        self.health -= damage_taken\n",
        "        if self.health < 0:\n",
        "            self.health = 0  # 체력이 음수가 되지 않도록 조정\n",
        "\n",
        "    def attack_target(self, target):\n",
        "        \"\"\"타겟에게 공격을 가하는 메서드\"\"\"\n",
        "        damage = random.randint(1, self.attack)  # 랜덤 데미지 생성\n",
        "        print(f\"{self.name}이(가) {target.name}에게 {damage}의 데미지를 입혔습니다.\")\n",
        "        target.take_damage(damage)\n",
        "\n",
        "# Player 클래스\n",
        "class Player(Character):\n",
        "    def __init__(self, name):\n",
        "        super().__init__(name, level=1, health=100, attack=25, defense=5)\n",
        "        self.experience = 0  # 추가 속성: 경험치\n",
        "\n",
        "    def gain_experience(self, amount):\n",
        "        \"\"\"경험치를 얻는 메서드\"\"\"\n",
        "        self.experience += amount\n",
        "        print(f\"{self.name}이(가) {amount} 경험치를 얻었습니다. (현재 경험치: {self.experience})\")\n",
        "        self.level_up()  # 레벨 업 체크\n",
        "\n",
        "    def level_up(self):\n",
        "        \"\"\"레벨 업 메서드\"\"\"\n",
        "        while self.experience >= 50:\n",
        "            self.experience -= 50\n",
        "            self.level += 1\n",
        "            self.attack += 10\n",
        "            self.defense += 5\n",
        "            print(f\"축하합니다! {self.name}이(가) 레벨 {self.level}로 올랐습니다!\")\n",
        "            print(f\"공격력: {self.attack}, 방어력: {self.defense}\")\n",
        "\n",
        "# Monster 클래스\n",
        "class Monster(Character):\n",
        "    def __init__(self, name, level):\n",
        "        # 랜덤 값에 레벨을 곱해서 초기화\n",
        "        health = random.randint(10, 30) * level\n",
        "        attack = random.randint(5, 20) * level\n",
        "        defense = random.randint(1, 5) * level\n",
        "        super().__init__(name, level, health, attack, defense)\n",
        "\n",
        "# 테스트 코드\n",
        "player = Player(\"용사\")\n",
        "monster = Monster(\"슬라임\", 2)\n",
        "\n",
        "# 플레이어와 몬스터 전투 시뮬레이션\n",
        "player.attack_target(monster)\n",
        "monster.attack_target(player)\n",
        "\n",
        "# 경험치 획득 및 레벨 업\n",
        "player.gain_experience(60)  # 경험치가 50을 넘으면 레벨 업"
      ],
      "metadata": {
        "colab": {
          "base_uri": "https://localhost:8080/"
        },
        "id": "rCKUUelbBZc8",
        "outputId": "2a3b5ce6-c5e6-49f4-b794-5be225333ffe"
      },
      "execution_count": 45,
      "outputs": [
        {
          "output_type": "stream",
          "name": "stdout",
          "text": [
            "용사이(가) 슬라임에게 13의 데미지를 입혔습니다.\n",
            "슬라임이(가) 용사에게 15의 데미지를 입혔습니다.\n",
            "용사이(가) 60 경험치를 얻었습니다. (현재 경험치: 60)\n",
            "축하합니다! 용사이(가) 레벨 2로 올랐습니다!\n",
            "공격력: 35, 방어력: 10\n"
          ]
        }
      ]
    },
    {
      "cell_type": "code",
      "source": [
        "def battle(player, monster):\n",
        "    \"\"\"\n",
        "    플레이어와 몬스터 간의 전투 함수\n",
        "    \"\"\"\n",
        "    print(f\"{player.name}와 {monster.name}의 전투가 시작됩니다!\")\n",
        "\n",
        "    while player.is_alive() and monster.is_alive():\n",
        "        # 플레이어가 몬스터를 공격\n",
        "        player.attack_target(monster)\n",
        "        if not monster.is_alive():  # 몬스터가 사망했는지 확인\n",
        "            print(f\"{monster.name}이(가) 쓰러졌습니다!\")\n",
        "            break\n",
        "\n",
        "        # 몬스터가 플레이어를 공격\n",
        "        monster.attack_target(player)\n",
        "        if not player.is_alive():  # 플레이어가 사망했는지 확인\n",
        "            print(f\"{player.name}이(가) 쓰러졌습니다!\")\n",
        "            break\n",
        "\n",
        "    # 전투 결과 처리\n",
        "    if player.is_alive():\n",
        "        # 플레이어 승리: 경험치 획득 및 레벨 업\n",
        "        experience_gain = monster.level * 20\n",
        "        player.gain_experience(experience_gain)\n",
        "        print(\"전투 승리!\")\n",
        "    else:\n",
        "        # 플레이어 패배\n",
        "        print(\"전투 패배..\")\n",
        "\n",
        "# 테스트 코드\n",
        "player = Player(\"용사\")\n",
        "monster = Monster(\"슬라임\", 3)\n",
        "\n",
        "battle(player, monster)\n"
      ],
      "metadata": {
        "colab": {
          "base_uri": "https://localhost:8080/"
        },
        "id": "lGlUUR0uBwUv",
        "outputId": "0d1ebd28-1c2b-480a-b56b-30aa308dd6b9"
      },
      "execution_count": 46,
      "outputs": [
        {
          "output_type": "stream",
          "name": "stdout",
          "text": [
            "용사와 슬라임의 전투가 시작됩니다!\n",
            "용사이(가) 슬라임에게 22의 데미지를 입혔습니다.\n",
            "슬라임이(가) 용사에게 5의 데미지를 입혔습니다.\n",
            "용사이(가) 슬라임에게 21의 데미지를 입혔습니다.\n",
            "슬라임이(가) 용사에게 7의 데미지를 입혔습니다.\n",
            "용사이(가) 슬라임에게 15의 데미지를 입혔습니다.\n",
            "슬라임이(가) 용사에게 4의 데미지를 입혔습니다.\n",
            "용사이(가) 슬라임에게 2의 데미지를 입혔습니다.\n",
            "슬라임이(가) 용사에게 6의 데미지를 입혔습니다.\n",
            "용사이(가) 슬라임에게 18의 데미지를 입혔습니다.\n",
            "슬라임이(가) 용사에게 21의 데미지를 입혔습니다.\n",
            "용사이(가) 슬라임에게 6의 데미지를 입혔습니다.\n",
            "슬라임이(가) 용사에게 6의 데미지를 입혔습니다.\n",
            "용사이(가) 슬라임에게 25의 데미지를 입혔습니다.\n",
            "슬라임이(가) 용사에게 34의 데미지를 입혔습니다.\n",
            "용사이(가) 슬라임에게 6의 데미지를 입혔습니다.\n",
            "슬라임이(가) 용사에게 38의 데미지를 입혔습니다.\n",
            "용사이(가) 슬라임에게 23의 데미지를 입혔습니다.\n",
            "슬라임이(가) 쓰러졌습니다!\n",
            "용사이(가) 60 경험치를 얻었습니다. (현재 경험치: 60)\n",
            "축하합니다! 용사이(가) 레벨 2로 올랐습니다!\n",
            "공격력: 35, 방어력: 10\n",
            "전투 승리!\n"
          ]
        }
      ]
    },
    {
      "cell_type": "code",
      "source": [
        "import random\n",
        "\n",
        "def main():\n",
        "    # 몬스터 정보 딕셔너리\n",
        "    monster_dict = {'슬라임': 1, '고블린': 2, '오크': 3}\n",
        "\n",
        "    # 플레이어 생성\n",
        "    player_name = input(\"플레이어의 이름을 입력하세요: \")\n",
        "    player = Player(player_name)  # Player 클래스는 이전에 정의됨\n",
        "\n",
        "    # 몬스터와 전투\n",
        "    for monster_name, monster_level in monster_dict.items():\n",
        "        print(f\"\\n{monster_name}(레벨 {monster_level})이(가) 나타났습니다!\")\n",
        "        monster = Monster(monster_name, monster_level)  # Monster 클래스는 이전에 정의됨\n",
        "\n",
        "        # 전투 시작\n",
        "        battle(player, monster)\n",
        "\n",
        "        # 플레이어가 사망했을 경우 게임 종료\n",
        "        if not player.is_alive():\n",
        "            print(\"게임오버\")\n",
        "            return\n",
        "\n",
        "    # 모든 전투에서 승리\n",
        "    print(\"축하합니다! 모든 몬스터를 처치했습니다!\")\n",
        "\n",
        "# 테스트\n",
        "if __name__ == \"__main__\":\n",
        "    main()"
      ],
      "metadata": {
        "colab": {
          "base_uri": "https://localhost:8080/"
        },
        "id": "-fayhdyKCRTu",
        "outputId": "a03e3233-afc9-4d71-9ebf-8afcb8fc54f6"
      },
      "execution_count": 47,
      "outputs": [
        {
          "output_type": "stream",
          "name": "stdout",
          "text": [
            "플레이어의 이름을 입력하세요: 공옥례\n",
            "\n",
            "슬라임(레벨 1)이(가) 나타났습니다!\n",
            "공옥례와 슬라임의 전투가 시작됩니다!\n",
            "공옥례이(가) 슬라임에게 4의 데미지를 입혔습니다.\n",
            "슬라임이(가) 공옥례에게 9의 데미지를 입혔습니다.\n",
            "공옥례이(가) 슬라임에게 3의 데미지를 입혔습니다.\n",
            "슬라임이(가) 공옥례에게 12의 데미지를 입혔습니다.\n",
            "공옥례이(가) 슬라임에게 19의 데미지를 입혔습니다.\n",
            "슬라임이(가) 쓰러졌습니다!\n",
            "공옥례이(가) 20 경험치를 얻었습니다. (현재 경험치: 20)\n",
            "전투 승리!\n",
            "\n",
            "고블린(레벨 2)이(가) 나타났습니다!\n",
            "공옥례와 고블린의 전투가 시작됩니다!\n",
            "공옥례이(가) 고블린에게 19의 데미지를 입혔습니다.\n",
            "고블린이(가) 공옥례에게 22의 데미지를 입혔습니다.\n",
            "공옥례이(가) 고블린에게 5의 데미지를 입혔습니다.\n",
            "고블린이(가) 공옥례에게 23의 데미지를 입혔습니다.\n",
            "공옥례이(가) 고블린에게 21의 데미지를 입혔습니다.\n",
            "고블린이(가) 공옥례에게 6의 데미지를 입혔습니다.\n",
            "공옥례이(가) 고블린에게 16의 데미지를 입혔습니다.\n",
            "고블린이(가) 쓰러졌습니다!\n",
            "공옥례이(가) 40 경험치를 얻었습니다. (현재 경험치: 60)\n",
            "축하합니다! 공옥례이(가) 레벨 2로 올랐습니다!\n",
            "공격력: 35, 방어력: 10\n",
            "전투 승리!\n",
            "\n",
            "오크(레벨 3)이(가) 나타났습니다!\n",
            "공옥례와 오크의 전투가 시작됩니다!\n",
            "공옥례이(가) 오크에게 25의 데미지를 입혔습니다.\n",
            "오크이(가) 공옥례에게 12의 데미지를 입혔습니다.\n",
            "공옥례이(가) 오크에게 7의 데미지를 입혔습니다.\n",
            "오크이(가) 공옥례에게 8의 데미지를 입혔습니다.\n",
            "공옥례이(가) 오크에게 1의 데미지를 입혔습니다.\n",
            "오크이(가) 공옥례에게 9의 데미지를 입혔습니다.\n",
            "공옥례이(가) 오크에게 20의 데미지를 입혔습니다.\n",
            "오크이(가) 공옥례에게 14의 데미지를 입혔습니다.\n",
            "공옥례이(가) 오크에게 34의 데미지를 입혔습니다.\n",
            "오크이(가) 공옥례에게 4의 데미지를 입혔습니다.\n",
            "공옥례이(가) 오크에게 25의 데미지를 입혔습니다.\n",
            "오크이(가) 공옥례에게 1의 데미지를 입혔습니다.\n",
            "공옥례이(가) 오크에게 26의 데미지를 입혔습니다.\n",
            "오크이(가) 공옥례에게 12의 데미지를 입혔습니다.\n",
            "공옥례이(가) 오크에게 21의 데미지를 입혔습니다.\n",
            "오크이(가) 공옥례에게 7의 데미지를 입혔습니다.\n",
            "공옥례이(가) 오크에게 7의 데미지를 입혔습니다.\n",
            "오크이(가) 공옥례에게 6의 데미지를 입혔습니다.\n",
            "공옥례이(가) 오크에게 7의 데미지를 입혔습니다.\n",
            "오크이(가) 공옥례에게 14의 데미지를 입혔습니다.\n",
            "공옥례이(가) 오크에게 13의 데미지를 입혔습니다.\n",
            "오크이(가) 공옥례에게 12의 데미지를 입혔습니다.\n",
            "공옥례이(가) 오크에게 7의 데미지를 입혔습니다.\n",
            "오크이(가) 공옥례에게 5의 데미지를 입혔습니다.\n",
            "공옥례이(가) 오크에게 23의 데미지를 입혔습니다.\n",
            "오크이(가) 공옥례에게 9의 데미지를 입혔습니다.\n",
            "공옥례이(가) 오크에게 17의 데미지를 입혔습니다.\n",
            "오크이(가) 공옥례에게 12의 데미지를 입혔습니다.\n",
            "공옥례이(가) 오크에게 30의 데미지를 입혔습니다.\n",
            "오크이(가) 쓰러졌습니다!\n",
            "공옥례이(가) 60 경험치를 얻었습니다. (현재 경험치: 70)\n",
            "축하합니다! 공옥례이(가) 레벨 3로 올랐습니다!\n",
            "공격력: 45, 방어력: 15\n",
            "전투 승리!\n",
            "축하합니다! 모든 몬스터를 처치했습니다!\n"
          ]
        }
      ]
    }
  ]
}