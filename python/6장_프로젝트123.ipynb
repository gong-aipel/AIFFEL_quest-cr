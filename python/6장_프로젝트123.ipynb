{
  "nbformat": 4,
  "nbformat_minor": 0,
  "metadata": {
    "colab": {
      "provenance": [],
      "mount_file_id": "1_uUshhWMkNq3-ljgnr3QoxEHmdCiZGox",
      "authorship_tag": "ABX9TyOnyHAhHvskLti9VFZvRh5I",
      "include_colab_link": true
    },
    "kernelspec": {
      "name": "python3",
      "display_name": "Python 3"
    },
    "language_info": {
      "name": "python"
    }
  },
  "cells": [
    {
      "cell_type": "markdown",
      "metadata": {
        "id": "view-in-github",
        "colab_type": "text"
      },
      "source": [
        "<a href=\"https://colab.research.google.com/github/gong-aipel/AIFFEL_quest-cr/blob/main/python/6%EC%9E%A5_%ED%94%84%EB%A1%9C%EC%A0%9D%ED%8A%B8123.ipynb\" target=\"_parent\"><img src=\"https://colab.research.google.com/assets/colab-badge.svg\" alt=\"Open In Colab\"/></a>"
      ]
    },
    {
      "cell_type": "code",
      "execution_count": 1,
      "metadata": {
        "colab": {
          "base_uri": "https://localhost:8080/"
        },
        "id": "xJsfZ2S9K0Jp",
        "outputId": "0be61fa0-708e-4590-92d8-b45ef8e6ef29"
      },
      "outputs": [
        {
          "output_type": "stream",
          "name": "stdout",
          "text": [
            "1.6.0\n"
          ]
        }
      ],
      "source": [
        "import sklearn\n",
        "\n",
        "print(sklearn.__version__)"
      ]
    },
    {
      "cell_type": "code",
      "source": [
        "from sklearn.datasets import load_breast_cancer\n",
        "from sklearn.model_selection import train_test_split\n",
        "from sklearn.metrics import classification_report\n",
        "\n",
        "from sklearn.metrics import accuracy_score"
      ],
      "metadata": {
        "id": "q52thsGALU9c"
      },
      "execution_count": 9,
      "outputs": []
    },
    {
      "cell_type": "code",
      "source": [
        "import pandas as pd\n",
        "\n"
      ],
      "metadata": {
        "id": "ueB6mzi5L5AM"
      },
      "execution_count": 3,
      "outputs": []
    },
    {
      "cell_type": "code",
      "source": [
        "# (1) load_breast_cancer 메서드로 데이터 로드\n",
        "data = load_breast_cancer()\n",
        "\n",
        "# (2) Feature Data 지정하기\n",
        "features = pd.DataFrame(data.data, columns=data.feature_names)\n",
        "\n",
        "# (3) Label Data 지정하기\n",
        "labels = pd.Series(data.target, name=\"label\")\n",
        "\n",
        "# (4) Target Names 출력해 보기\n",
        "print(\"Target Names:\", data.target_names)\n",
        "\n",
        "# (5) 데이터 Describe 해 보기\n",
        "print(\"\\nFeature Data Description:\")\n",
        "print(features.describe())\n",
        "\n",
        "# (6) train, test 데이터 분리\n",
        "X_train, X_test, y_train, y_test = train_test_split(\n",
        "    features, labels, test_size=0.2, random_state=42\n",
        ")\n",
        "\n",
        "print(\"\\nTrain and Test split completed:\")\n",
        "print(f\"X_train shape: {X_train.shape}\")\n",
        "print(f\"X_test shape: {X_test.shape}\")\n",
        "print(f\"y_train shape: {y_train.shape}\")\n",
        "print(f\"y_test shape: {y_test.shape}\")"
      ],
      "metadata": {
        "colab": {
          "base_uri": "https://localhost:8080/"
        },
        "id": "MuREidxIMF1K",
        "outputId": "ce9a27ba-953e-45cd-85a1-eabbcffd2852"
      },
      "execution_count": 4,
      "outputs": [
        {
          "output_type": "stream",
          "name": "stdout",
          "text": [
            "Target Names: ['malignant' 'benign']\n",
            "\n",
            "Feature Data Description:\n",
            "       mean radius  mean texture  mean perimeter    mean area  \\\n",
            "count   569.000000    569.000000      569.000000   569.000000   \n",
            "mean     14.127292     19.289649       91.969033   654.889104   \n",
            "std       3.524049      4.301036       24.298981   351.914129   \n",
            "min       6.981000      9.710000       43.790000   143.500000   \n",
            "25%      11.700000     16.170000       75.170000   420.300000   \n",
            "50%      13.370000     18.840000       86.240000   551.100000   \n",
            "75%      15.780000     21.800000      104.100000   782.700000   \n",
            "max      28.110000     39.280000      188.500000  2501.000000   \n",
            "\n",
            "       mean smoothness  mean compactness  mean concavity  mean concave points  \\\n",
            "count       569.000000        569.000000      569.000000           569.000000   \n",
            "mean          0.096360          0.104341        0.088799             0.048919   \n",
            "std           0.014064          0.052813        0.079720             0.038803   \n",
            "min           0.052630          0.019380        0.000000             0.000000   \n",
            "25%           0.086370          0.064920        0.029560             0.020310   \n",
            "50%           0.095870          0.092630        0.061540             0.033500   \n",
            "75%           0.105300          0.130400        0.130700             0.074000   \n",
            "max           0.163400          0.345400        0.426800             0.201200   \n",
            "\n",
            "       mean symmetry  mean fractal dimension  ...  worst radius  \\\n",
            "count     569.000000              569.000000  ...    569.000000   \n",
            "mean        0.181162                0.062798  ...     16.269190   \n",
            "std         0.027414                0.007060  ...      4.833242   \n",
            "min         0.106000                0.049960  ...      7.930000   \n",
            "25%         0.161900                0.057700  ...     13.010000   \n",
            "50%         0.179200                0.061540  ...     14.970000   \n",
            "75%         0.195700                0.066120  ...     18.790000   \n",
            "max         0.304000                0.097440  ...     36.040000   \n",
            "\n",
            "       worst texture  worst perimeter   worst area  worst smoothness  \\\n",
            "count     569.000000       569.000000   569.000000        569.000000   \n",
            "mean       25.677223       107.261213   880.583128          0.132369   \n",
            "std         6.146258        33.602542   569.356993          0.022832   \n",
            "min        12.020000        50.410000   185.200000          0.071170   \n",
            "25%        21.080000        84.110000   515.300000          0.116600   \n",
            "50%        25.410000        97.660000   686.500000          0.131300   \n",
            "75%        29.720000       125.400000  1084.000000          0.146000   \n",
            "max        49.540000       251.200000  4254.000000          0.222600   \n",
            "\n",
            "       worst compactness  worst concavity  worst concave points  \\\n",
            "count         569.000000       569.000000            569.000000   \n",
            "mean            0.254265         0.272188              0.114606   \n",
            "std             0.157336         0.208624              0.065732   \n",
            "min             0.027290         0.000000              0.000000   \n",
            "25%             0.147200         0.114500              0.064930   \n",
            "50%             0.211900         0.226700              0.099930   \n",
            "75%             0.339100         0.382900              0.161400   \n",
            "max             1.058000         1.252000              0.291000   \n",
            "\n",
            "       worst symmetry  worst fractal dimension  \n",
            "count      569.000000               569.000000  \n",
            "mean         0.290076                 0.083946  \n",
            "std          0.061867                 0.018061  \n",
            "min          0.156500                 0.055040  \n",
            "25%          0.250400                 0.071460  \n",
            "50%          0.282200                 0.080040  \n",
            "75%          0.317900                 0.092080  \n",
            "max          0.663800                 0.207500  \n",
            "\n",
            "[8 rows x 30 columns]\n",
            "\n",
            "Train and Test split completed:\n",
            "X_train shape: (455, 30)\n",
            "X_test shape: (114, 30)\n",
            "y_train shape: (455,)\n",
            "y_test shape: (114,)\n"
          ]
        }
      ]
    },
    {
      "cell_type": "code",
      "source": [
        "from sklearn.model_selection import train_test_split\n",
        "\n",
        "# train, test 데이터 분리\n",
        "X_train, X_test, y_train, y_test = train_test_split(\n",
        "    features,  # Feature Data\n",
        "    labels,    # Label Data\n",
        "    test_size=0.2,  # 테스트 데이터 비율 (20%)\n",
        "    random_state=42  # 결과 재현을 위한 랜덤 시드\n",
        ")\n",
        "\n",
        "print(\"Train and Test data shapes:\")\n",
        "print(f\"X_train shape: {X_train.shape}\")\n",
        "print(f\"X_test shape: {X_test.shape}\")\n",
        "print(f\"y_train shape: {y_train.shape}\")\n",
        "print(f\"y_test shape: {y_test.shape}\")"
      ],
      "metadata": {
        "colab": {
          "base_uri": "https://localhost:8080/"
        },
        "id": "vr0CS7BmMTOh",
        "outputId": "23418325-f41c-44c2-9eed-503bac5630b9"
      },
      "execution_count": 5,
      "outputs": [
        {
          "output_type": "stream",
          "name": "stdout",
          "text": [
            "Train and Test data shapes:\n",
            "X_train shape: (455, 30)\n",
            "X_test shape: (114, 30)\n",
            "y_train shape: (455,)\n",
            "y_test shape: (114,)\n"
          ]
        }
      ]
    },
    {
      "cell_type": "code",
      "source": [
        "# 데이터 로드\n",
        "data = load_breast_cancer()\n",
        "X = data.data\n",
        "y = data.target\n",
        "\n",
        "# train-test 데이터 나누기\n",
        "X_train, X_test, y_train, y_test = train_test_split(X, y, test_size=0.2, random_state=42)\n",
        "\n",
        "# 유방암 데이터 확인\n",
        "print(f\"Feature data shape: {X_train.shape}\")\n",
        "print(f\"Label data shape: {y_train.shape}\")"
      ],
      "metadata": {
        "colab": {
          "base_uri": "https://localhost:8080/"
        },
        "id": "4SJ78zc8Od3L",
        "outputId": "9a2a53b9-a0cf-4526-df7b-bd8fb2ae1a10"
      },
      "execution_count": 11,
      "outputs": [
        {
          "output_type": "stream",
          "name": "stdout",
          "text": [
            "Feature data shape: (455, 30)\n",
            "Label data shape: (455,)\n"
          ]
        }
      ]
    },
    {
      "cell_type": "code",
      "source": [
        "from sklearn.tree import DecisionTreeClassifier\n",
        "\n",
        "# 모델 생성\n",
        "decision_tree = DecisionTreeClassifier(random_state=42)\n",
        "\n",
        "# 학습\n",
        "decision_tree.fit(X_train, y_train)\n",
        "\n",
        "# 예측\n",
        "y_pred = decision_tree.predict(X_test)\n",
        "\n",
        "# 정확도 계산\n",
        "accuracy = accuracy_score(y_test, y_pred)\n",
        "print(f\"Decision Tree Accuracy: {accuracy:.2f}\")"
      ],
      "metadata": {
        "colab": {
          "base_uri": "https://localhost:8080/"
        },
        "id": "FVV0zbU7Op_Z",
        "outputId": "7bec3eeb-6651-48e5-e396-347b32bc6ac2"
      },
      "execution_count": 12,
      "outputs": [
        {
          "output_type": "stream",
          "name": "stdout",
          "text": [
            "Decision Tree Accuracy: 0.95\n"
          ]
        }
      ]
    },
    {
      "cell_type": "code",
      "source": [
        "from sklearn.ensemble import RandomForestClassifier\n",
        "\n",
        "# 모델 생성\n",
        "random_forest = RandomForestClassifier(random_state=42)\n",
        "\n",
        "# 학습\n",
        "random_forest.fit(X_train, y_train)\n",
        "\n",
        "# 예측\n",
        "y_pred = random_forest.predict(X_test)\n",
        "\n",
        "# 정확도 계산\n",
        "accuracy = accuracy_score(y_test, y_pred)\n",
        "print(f\"Random Forest Accuracy: {accuracy:.2f}\")"
      ],
      "metadata": {
        "colab": {
          "base_uri": "https://localhost:8080/"
        },
        "id": "OsHY_uyrPIZo",
        "outputId": "25163966-d996-4b0c-87ce-e4d0c845ab03"
      },
      "execution_count": 14,
      "outputs": [
        {
          "output_type": "stream",
          "name": "stdout",
          "text": [
            "Random Forest Accuracy: 0.96\n"
          ]
        }
      ]
    },
    {
      "cell_type": "code",
      "source": [
        "from sklearn.svm import SVC\n",
        "\n",
        "# 모델 생성\n",
        "svm = SVC(random_state=42)\n",
        "\n",
        "# 학습\n",
        "svm.fit(X_train, y_train)\n",
        "\n",
        "# 예측\n",
        "y_pred = svm.predict(X_test)\n",
        "\n",
        "# 정확도 계산\n",
        "accuracy = accuracy_score(y_test, y_pred)\n",
        "print(f\"SVM Accuracy: {accuracy:.2f}\")"
      ],
      "metadata": {
        "colab": {
          "base_uri": "https://localhost:8080/"
        },
        "id": "RcZsVI3NPK0t",
        "outputId": "057b7967-c81b-4107-edcc-38ccaf4a5e45"
      },
      "execution_count": 15,
      "outputs": [
        {
          "output_type": "stream",
          "name": "stdout",
          "text": [
            "SVM Accuracy: 0.95\n"
          ]
        }
      ]
    },
    {
      "cell_type": "code",
      "source": [
        "from sklearn.linear_model import SGDClassifier\n",
        "\n",
        "# 모델 생성\n",
        "sgd = SGDClassifier(random_state=42)\n",
        "\n",
        "# 학습\n",
        "sgd.fit(X_train, y_train)\n",
        "\n",
        "# 예측\n",
        "y_pred = sgd.predict(X_test)\n",
        "\n",
        "# 정확도 계산\n",
        "accuracy = accuracy_score(y_test, y_pred)\n",
        "print(f\"SGD Classifier Accuracy: {accuracy:.2f}\")"
      ],
      "metadata": {
        "colab": {
          "base_uri": "https://localhost:8080/"
        },
        "id": "RXekVEiJPQSE",
        "outputId": "fb5ce145-a90e-4c59-f22a-0023673d00e9"
      },
      "execution_count": 16,
      "outputs": [
        {
          "output_type": "stream",
          "name": "stdout",
          "text": [
            "SGD Classifier Accuracy: 0.90\n"
          ]
        }
      ]
    },
    {
      "cell_type": "code",
      "source": [
        "from sklearn.linear_model import LogisticRegression\n",
        "\n",
        "# 모델 생성\n",
        "logistic_regression = LogisticRegression(max_iter=1000, random_state=42)\n",
        "\n",
        "# 학습\n",
        "logistic_regression.fit(X_train, y_train)\n",
        "\n",
        "# 예측\n",
        "y_pred = logistic_regression.predict(X_test)\n",
        "\n",
        "# 정확도 계산\n",
        "accuracy = accuracy_score(y_test, y_pred)\n",
        "print(f\"Logistic Regression Accuracy: {accuracy:.2f}\")"
      ],
      "metadata": {
        "colab": {
          "base_uri": "https://localhost:8080/"
        },
        "id": "HpQBPPHlPUta",
        "outputId": "3b476b25-e410-41b4-9e6a-8ef6946c40fe"
      },
      "execution_count": 17,
      "outputs": [
        {
          "output_type": "stream",
          "name": "stdout",
          "text": [
            "Logistic Regression Accuracy: 0.96\n"
          ]
        },
        {
          "output_type": "stream",
          "name": "stderr",
          "text": [
            "/usr/local/lib/python3.11/dist-packages/sklearn/linear_model/_logistic.py:465: ConvergenceWarning: lbfgs failed to converge (status=1):\n",
            "STOP: TOTAL NO. of ITERATIONS REACHED LIMIT.\n",
            "\n",
            "Increase the number of iterations (max_iter) or scale the data as shown in:\n",
            "    https://scikit-learn.org/stable/modules/preprocessing.html\n",
            "Please also refer to the documentation for alternative solver options:\n",
            "    https://scikit-learn.org/stable/modules/linear_model.html#logistic-regression\n",
            "  n_iter_i = _check_optimize_result(\n"
          ]
        }
      ]
    },
    {
      "cell_type": "code",
      "source": [
        "from sklearn.metrics import classification_report, f1_score\n",
        "\n",
        "# 모델 리스트와 이름\n",
        "models = {\n",
        "    \"Decision Tree\": DecisionTreeClassifier(random_state=42),\n",
        "    \"Random Forest\": RandomForestClassifier(random_state=42),\n",
        "    \"SVM\": SVC(random_state=42),\n",
        "    \"SGD Classifier\": SGDClassifier(random_state=42),\n",
        "    \"Logistic Regression\": LogisticRegression(max_iter=1000, random_state=42)}\n",
        "\n",
        "    # 각 모델의 결과 저장\n",
        "results = {}\n",
        "\n",
        "# 모든 모델 평가\n",
        "for model_name, model in models.items():\n",
        "    # 학습\n",
        "    model.fit(X_train, y_train)\n",
        "    # 예측\n",
        "    y_pred = model.predict(X_test)\n",
        "    # 평가 결과 저장\n",
        "    f1 = f1_score(y_test, y_pred)\n",
        "    results[model_name] = {\n",
        "        \"f1_score\": f1,\n",
        "        \"classification_report\": classification_report(y_test, y_pred, target_names=data.target_names)\n",
        "    }\n",
        "\n",
        "# 가장 높은 F1 점수를 가진 모델 선택\n",
        "best_model = max(results, key=lambda x: results[x][\"f1_score\"])\n",
        "\n",
        "# 결과 출력\n",
        "print(f\"Best Model: {best_model}\")\n",
        "print(f\"F1 Score: {results[best_model]['f1_score']:.2f}\")\n",
        "print(\"\\nClassification Report:\\n\")\n",
        "print(results[best_model][\"classification_report\"])"
      ],
      "metadata": {
        "colab": {
          "base_uri": "https://localhost:8080/"
        },
        "id": "n5EyyNnTPhVM",
        "outputId": "52a35463-6460-44df-f470-e301e57efded"
      },
      "execution_count": 20,
      "outputs": [
        {
          "output_type": "stream",
          "name": "stdout",
          "text": [
            "Best Model: Random Forest\n",
            "F1 Score: 0.97\n",
            "\n",
            "Classification Report:\n",
            "\n",
            "              precision    recall  f1-score   support\n",
            "\n",
            "   malignant       0.98      0.93      0.95        43\n",
            "      benign       0.96      0.99      0.97        71\n",
            "\n",
            "    accuracy                           0.96       114\n",
            "   macro avg       0.97      0.96      0.96       114\n",
            "weighted avg       0.97      0.96      0.96       114\n",
            "\n"
          ]
        },
        {
          "output_type": "stream",
          "name": "stderr",
          "text": [
            "/usr/local/lib/python3.11/dist-packages/sklearn/linear_model/_logistic.py:465: ConvergenceWarning: lbfgs failed to converge (status=1):\n",
            "STOP: TOTAL NO. of ITERATIONS REACHED LIMIT.\n",
            "\n",
            "Increase the number of iterations (max_iter) or scale the data as shown in:\n",
            "    https://scikit-learn.org/stable/modules/preprocessing.html\n",
            "Please also refer to the documentation for alternative solver options:\n",
            "    https://scikit-learn.org/stable/modules/linear_model.html#logistic-regression\n",
            "  n_iter_i = _check_optimize_result(\n"
          ]
        }
      ]
    },
    {
      "cell_type": "markdown",
      "source": [
        "대부분의 데이터에서 설명력이 좋게 나오는 결과와 동일하게 붓꽃 데이터도 랜덤 포레스트가 97%로 제일 좋게 나왔다."
      ],
      "metadata": {
        "id": "jykIqj2WQIh3"
      }
    },
    {
      "cell_type": "code",
      "source": [
        "import sklearn\n",
        "\n",
        "print(sklearn.__version__)"
      ],
      "metadata": {
        "colab": {
          "base_uri": "https://localhost:8080/"
        },
        "id": "aAzhyUqfpzg5",
        "outputId": "66e72d00-cf63-4a74-a0f5-4cb755732f65"
      },
      "execution_count": 21,
      "outputs": [
        {
          "output_type": "stream",
          "name": "stdout",
          "text": [
            "1.6.0\n"
          ]
        }
      ]
    },
    {
      "cell_type": "code",
      "source": [
        "from sklearn.datasets import load_digits\n",
        "from sklearn.model_selection import train_test_split\n",
        "from sklearn.metrics import classification_report"
      ],
      "metadata": {
        "id": "t7KFMr86p7zR"
      },
      "execution_count": 22,
      "outputs": []
    },
    {
      "cell_type": "code",
      "source": [
        "data = load_digits()"
      ],
      "metadata": {
        "id": "fAORTrErqKPZ"
      },
      "execution_count": 23,
      "outputs": []
    },
    {
      "cell_type": "code",
      "source": [
        "# (2) Feature Data 지정하기\n",
        "features = pd.DataFrame(data.data, columns=data.feature_names)\n",
        "\n",
        "# (3) Label Data 지정하기\n",
        "labels = pd.Series(data.target, name=\"label\")\n",
        "\n",
        "# (4) Target Names 출력해 보기\n",
        "print(\"Target Names:\", data.target_names)\n",
        "\n",
        "# (5) 데이터 Describe 해 보기\n",
        "print(\"\\nFeature Data Description:\")\n",
        "print(features.describe())\n",
        "\n",
        "# (6) train, test 데이터 분리\n",
        "X_train, X_test, y_train, y_test = train_test_split(\n",
        "    features, labels, test_size=0.2, random_state=42\n",
        ")\n",
        "\n",
        "print(\"\\nTrain and Test split completed:\")\n",
        "print(f\"X_train shape: {X_train.shape}\")\n",
        "print(f\"X_test shape: {X_test.shape}\")\n",
        "print(f\"y_train shape: {y_train.shape}\")\n",
        "print(f\"y_test shape: {y_test.shape}\")"
      ],
      "metadata": {
        "colab": {
          "base_uri": "https://localhost:8080/"
        },
        "id": "MeBtqmuhqe00",
        "outputId": "c6a057a2-52c5-457e-9f19-1caeb4f075de"
      },
      "execution_count": 24,
      "outputs": [
        {
          "output_type": "stream",
          "name": "stdout",
          "text": [
            "Target Names: [0 1 2 3 4 5 6 7 8 9]\n",
            "\n",
            "Feature Data Description:\n",
            "       pixel_0_0    pixel_0_1    pixel_0_2    pixel_0_3    pixel_0_4  \\\n",
            "count     1797.0  1797.000000  1797.000000  1797.000000  1797.000000   \n",
            "mean         0.0     0.303840     5.204786    11.835838    11.848080   \n",
            "std          0.0     0.907192     4.754826     4.248842     4.287388   \n",
            "min          0.0     0.000000     0.000000     0.000000     0.000000   \n",
            "25%          0.0     0.000000     1.000000    10.000000    10.000000   \n",
            "50%          0.0     0.000000     4.000000    13.000000    13.000000   \n",
            "75%          0.0     0.000000     9.000000    15.000000    15.000000   \n",
            "max          0.0     8.000000    16.000000    16.000000    16.000000   \n",
            "\n",
            "         pixel_0_5    pixel_0_6    pixel_0_7    pixel_1_0    pixel_1_1  ...  \\\n",
            "count  1797.000000  1797.000000  1797.000000  1797.000000  1797.000000  ...   \n",
            "mean      5.781859     1.362270     0.129661     0.005565     1.993879  ...   \n",
            "std       5.666418     3.325775     1.037383     0.094222     3.196160  ...   \n",
            "min       0.000000     0.000000     0.000000     0.000000     0.000000  ...   \n",
            "25%       0.000000     0.000000     0.000000     0.000000     0.000000  ...   \n",
            "50%       4.000000     0.000000     0.000000     0.000000     0.000000  ...   \n",
            "75%      11.000000     0.000000     0.000000     0.000000     3.000000  ...   \n",
            "max      16.000000    16.000000    15.000000     2.000000    16.000000  ...   \n",
            "\n",
            "         pixel_6_6    pixel_6_7    pixel_7_0    pixel_7_1    pixel_7_2  \\\n",
            "count  1797.000000  1797.000000  1797.000000  1797.000000  1797.000000   \n",
            "mean      3.725097     0.206455     0.000556     0.279354     5.557596   \n",
            "std       4.919406     0.984401     0.023590     0.934302     5.103019   \n",
            "min       0.000000     0.000000     0.000000     0.000000     0.000000   \n",
            "25%       0.000000     0.000000     0.000000     0.000000     1.000000   \n",
            "50%       1.000000     0.000000     0.000000     0.000000     4.000000   \n",
            "75%       7.000000     0.000000     0.000000     0.000000    10.000000   \n",
            "max      16.000000    13.000000     1.000000     9.000000    16.000000   \n",
            "\n",
            "         pixel_7_3    pixel_7_4    pixel_7_5    pixel_7_6    pixel_7_7  \n",
            "count  1797.000000  1797.000000  1797.000000  1797.000000  1797.000000  \n",
            "mean     12.089037    11.809126     6.764051     2.067891     0.364496  \n",
            "std       4.374694     4.933947     5.900623     4.090548     1.860122  \n",
            "min       0.000000     0.000000     0.000000     0.000000     0.000000  \n",
            "25%      11.000000    10.000000     0.000000     0.000000     0.000000  \n",
            "50%      13.000000    14.000000     6.000000     0.000000     0.000000  \n",
            "75%      16.000000    16.000000    12.000000     2.000000     0.000000  \n",
            "max      16.000000    16.000000    16.000000    16.000000    16.000000  \n",
            "\n",
            "[8 rows x 64 columns]\n",
            "\n",
            "Train and Test split completed:\n",
            "X_train shape: (1437, 64)\n",
            "X_test shape: (360, 64)\n",
            "y_train shape: (1437,)\n",
            "y_test shape: (360,)\n"
          ]
        }
      ]
    },
    {
      "cell_type": "code",
      "source": [
        "data = load_digits()"
      ],
      "metadata": {
        "id": "Vlbh-kaYqsuj"
      },
      "execution_count": 29,
      "outputs": []
    },
    {
      "cell_type": "code",
      "source": [
        "from sklearn.model_selection import train_test_split\n",
        "from sklearn.metrics import accuracy_score, classification_report, f1_score\n",
        "\n",
        "# 데이터 로드\n",
        "digits = load_digits()\n",
        "X = digits.data  # Feature 데이터\n",
        "y = digits.target  # Label 데이터\n",
        "\n",
        "# 학습 데이터와 테스트 데이터 분리\n",
        "X_train, X_test, y_train, y_test = train_test_split(X, y, test_size=0.2, random_state=42)\n",
        "\n",
        "print(f\"Feature data shape: {X_train.shape}\")\n",
        "print(f\"Label data shape: {y_train.shape}\")"
      ],
      "metadata": {
        "colab": {
          "base_uri": "https://localhost:8080/"
        },
        "id": "ICTVwxhLs9lT",
        "outputId": "3b50cbbb-ecde-4491-8939-b7f0e390ae11"
      },
      "execution_count": 33,
      "outputs": [
        {
          "output_type": "stream",
          "name": "stdout",
          "text": [
            "Feature data shape: (1437, 64)\n",
            "Label data shape: (1437,)\n"
          ]
        }
      ]
    },
    {
      "cell_type": "code",
      "source": [
        "from sklearn.tree import DecisionTreeClassifier\n",
        "\n",
        "decision_tree = DecisionTreeClassifier(random_state=42)\n",
        "decision_tree.fit(X_train, y_train)\n",
        "y_pred_dt = decision_tree.predict(X_test)\n",
        "\n",
        "accuracy_dt = accuracy_score(y_test, y_pred_dt)\n",
        "f1_dt = f1_score(y_test, y_pred_dt, average='macro')\n",
        "print(f\"Decision Tree - Accuracy: {accuracy_dt:.2f}, F1 Score: {f1_dt:.2f}\")"
      ],
      "metadata": {
        "colab": {
          "base_uri": "https://localhost:8080/"
        },
        "id": "ZnUOigHLtGuq",
        "outputId": "7162950f-1484-4d95-9a18-bb1810821c9d"
      },
      "execution_count": 34,
      "outputs": [
        {
          "output_type": "stream",
          "name": "stdout",
          "text": [
            "Decision Tree - Accuracy: 0.84, F1 Score: 0.84\n"
          ]
        }
      ]
    },
    {
      "cell_type": "code",
      "source": [
        "from sklearn.ensemble import RandomForestClassifier\n",
        "\n",
        "random_forest = RandomForestClassifier(random_state=42)\n",
        "random_forest.fit(X_train, y_train)\n",
        "y_pred_rf = random_forest.predict(X_test)\n",
        "\n",
        "accuracy_rf = accuracy_score(y_test, y_pred_rf)\n",
        "f1_rf = f1_score(y_test, y_pred_rf, average='macro')\n",
        "print(f\"Random Forest - Accuracy: {accuracy_rf:.2f}, F1 Score: {f1_rf:.2f}\")"
      ],
      "metadata": {
        "colab": {
          "base_uri": "https://localhost:8080/"
        },
        "id": "s5dlTfaEtJD6",
        "outputId": "b70a2d34-f69e-43ed-cc7a-020b39d9dd7d"
      },
      "execution_count": 35,
      "outputs": [
        {
          "output_type": "stream",
          "name": "stdout",
          "text": [
            "Random Forest - Accuracy: 0.97, F1 Score: 0.97\n"
          ]
        }
      ]
    },
    {
      "cell_type": "code",
      "source": [
        "from sklearn.svm import SVC\n",
        "\n",
        "svm = SVC(random_state=42)\n",
        "svm.fit(X_train, y_train)\n",
        "y_pred_svm = svm.predict(X_test)\n",
        "\n",
        "accuracy_svm = accuracy_score(y_test, y_pred_svm)\n",
        "f1_svm = f1_score(y_test, y_pred_svm, average='macro')\n",
        "print(f\"SVM - Accuracy: {accuracy_svm:.2f}, F1 Score: {f1_svm:.2f}\")"
      ],
      "metadata": {
        "colab": {
          "base_uri": "https://localhost:8080/"
        },
        "id": "RcqH5epEtRCm",
        "outputId": "f544e92c-9f70-4826-a96d-6c47c2e2844b"
      },
      "execution_count": 36,
      "outputs": [
        {
          "output_type": "stream",
          "name": "stdout",
          "text": [
            "SVM - Accuracy: 0.99, F1 Score: 0.99\n"
          ]
        }
      ]
    },
    {
      "cell_type": "code",
      "source": [
        "from sklearn.linear_model import SGDClassifier\n",
        "\n",
        "sgd = SGDClassifier(random_state=42)\n",
        "sgd.fit(X_train, y_train)\n",
        "y_pred_sgd = sgd.predict(X_test)\n",
        "\n",
        "accuracy_sgd = accuracy_score(y_test, y_pred_sgd)\n",
        "f1_sgd = f1_score(y_test, y_pred_sgd, average='macro')\n",
        "print(f\"SGD Classifier - Accuracy: {accuracy_sgd:.2f}, F1 Score: {f1_sgd:.2f}\")"
      ],
      "metadata": {
        "colab": {
          "base_uri": "https://localhost:8080/"
        },
        "id": "nSlMTqPJtS6P",
        "outputId": "7f2d1788-9d9d-48a6-9734-2fe632f65bd0"
      },
      "execution_count": 37,
      "outputs": [
        {
          "output_type": "stream",
          "name": "stdout",
          "text": [
            "SGD Classifier - Accuracy: 0.96, F1 Score: 0.96\n"
          ]
        }
      ]
    },
    {
      "cell_type": "code",
      "source": [
        "from sklearn.linear_model import LogisticRegression\n",
        "\n",
        "logistic_regression = LogisticRegression(max_iter=1000, random_state=42)\n",
        "logistic_regression.fit(X_train, y_train)\n",
        "y_pred_lr = logistic_regression.predict(X_test)\n",
        "\n",
        "accuracy_lr = accuracy_score(y_test, y_pred_lr)\n",
        "f1_lr = f1_score(y_test, y_pred_lr, average='macro')\n",
        "print(f\"Logistic Regression - Accuracy: {accuracy_lr:.2f}, F1 Score: {f1_lr:.2f}\")"
      ],
      "metadata": {
        "colab": {
          "base_uri": "https://localhost:8080/"
        },
        "id": "oliG_bQ5tXOD",
        "outputId": "f33f0cdd-7816-4b97-bc3e-ffcebd8bd5a4"
      },
      "execution_count": 38,
      "outputs": [
        {
          "output_type": "stream",
          "name": "stdout",
          "text": [
            "Logistic Regression - Accuracy: 0.97, F1 Score: 0.98\n"
          ]
        }
      ]
    },
    {
      "cell_type": "code",
      "source": [
        "# 결과 저장\n",
        "results = {\n",
        "    \"Decision Tree\": f1_dt,\n",
        "    \"Random Forest\": f1_rf,\n",
        "    \"SVM\": f1_svm,\n",
        "    \"SGD Classifier\": f1_sgd,\n",
        "    \"Logistic Regression\": f1_lr\n",
        "}\n",
        "\n",
        "best_model = max(results, key=results.get)\n",
        "print(\"\\nBest Model:\")\n",
        "print(f\"{best_model} with F1 Score: {results[best_model]:.2f}\")"
      ],
      "metadata": {
        "colab": {
          "base_uri": "https://localhost:8080/"
        },
        "id": "JHvbDycHtbJm",
        "outputId": "8ed9f0b3-778e-40a8-b4ab-16378a6b6f2f"
      },
      "execution_count": 39,
      "outputs": [
        {
          "output_type": "stream",
          "name": "stdout",
          "text": [
            "\n",
            "Best Model:\n",
            "SVM with F1 Score: 0.99\n"
          ]
        }
      ]
    },
    {
      "cell_type": "markdown",
      "source": [
        "손글씨 데이터는 예외적으로 SVM 분석이 0.99로 랜덤포레스트인 0.97보다 높아서 이 경우는 SVM으로 선택하는 것이 바람직하다고 할 수 있겠다."
      ],
      "metadata": {
        "id": "K4CuXBeWtnDJ"
      }
    },
    {
      "cell_type": "code",
      "source": [
        "from sklearn.datasets import load_wine\n",
        "from sklearn.model_selection import train_test_split\n",
        "from sklearn.metrics import classification_report"
      ],
      "metadata": {
        "id": "EPzHJsfZuOGX"
      },
      "execution_count": 40,
      "outputs": []
    },
    {
      "cell_type": "code",
      "source": [
        "data = load_wine()"
      ],
      "metadata": {
        "id": "85iagQJauPkU"
      },
      "execution_count": 41,
      "outputs": []
    },
    {
      "cell_type": "code",
      "source": [
        "# (2) Feature Data 지정하기\n",
        "features = pd.DataFrame(data.data, columns=data.feature_names)\n",
        "\n",
        "# (3) Label Data 지정하기\n",
        "labels = pd.Series(data.target, name=\"label\")\n",
        "\n",
        "# (4) Target Names 출력해 보기\n",
        "print(\"Target Names:\", data.target_names)\n",
        "\n",
        "# (5) 데이터 Describe 해 보기\n",
        "print(\"\\nFeature Data Description:\")\n",
        "print(features.describe())\n",
        "\n",
        "# (6) train, test 데이터 분리\n",
        "X_train, X_test, y_train, y_test = train_test_split(\n",
        "    features, labels, test_size=0.2, random_state=42\n",
        ")\n",
        "\n",
        "print(\"\\nTrain and Test split completed:\")\n",
        "print(f\"X_train shape: {X_train.shape}\")\n",
        "print(f\"X_test shape: {X_test.shape}\")\n",
        "print(f\"y_train shape: {y_train.shape}\")\n",
        "print(f\"y_test shape: {y_test.shape}\")"
      ],
      "metadata": {
        "colab": {
          "base_uri": "https://localhost:8080/"
        },
        "id": "oN8_uwLTuecQ",
        "outputId": "60dcafcb-9fb8-4700-9591-2e12303aa9b9"
      },
      "execution_count": 42,
      "outputs": [
        {
          "output_type": "stream",
          "name": "stdout",
          "text": [
            "Target Names: ['class_0' 'class_1' 'class_2']\n",
            "\n",
            "Feature Data Description:\n",
            "          alcohol  malic_acid         ash  alcalinity_of_ash   magnesium  \\\n",
            "count  178.000000  178.000000  178.000000         178.000000  178.000000   \n",
            "mean    13.000618    2.336348    2.366517          19.494944   99.741573   \n",
            "std      0.811827    1.117146    0.274344           3.339564   14.282484   \n",
            "min     11.030000    0.740000    1.360000          10.600000   70.000000   \n",
            "25%     12.362500    1.602500    2.210000          17.200000   88.000000   \n",
            "50%     13.050000    1.865000    2.360000          19.500000   98.000000   \n",
            "75%     13.677500    3.082500    2.557500          21.500000  107.000000   \n",
            "max     14.830000    5.800000    3.230000          30.000000  162.000000   \n",
            "\n",
            "       total_phenols  flavanoids  nonflavanoid_phenols  proanthocyanins  \\\n",
            "count     178.000000  178.000000            178.000000       178.000000   \n",
            "mean        2.295112    2.029270              0.361854         1.590899   \n",
            "std         0.625851    0.998859              0.124453         0.572359   \n",
            "min         0.980000    0.340000              0.130000         0.410000   \n",
            "25%         1.742500    1.205000              0.270000         1.250000   \n",
            "50%         2.355000    2.135000              0.340000         1.555000   \n",
            "75%         2.800000    2.875000              0.437500         1.950000   \n",
            "max         3.880000    5.080000              0.660000         3.580000   \n",
            "\n",
            "       color_intensity         hue  od280/od315_of_diluted_wines      proline  \n",
            "count       178.000000  178.000000                    178.000000   178.000000  \n",
            "mean          5.058090    0.957449                      2.611685   746.893258  \n",
            "std           2.318286    0.228572                      0.709990   314.907474  \n",
            "min           1.280000    0.480000                      1.270000   278.000000  \n",
            "25%           3.220000    0.782500                      1.937500   500.500000  \n",
            "50%           4.690000    0.965000                      2.780000   673.500000  \n",
            "75%           6.200000    1.120000                      3.170000   985.000000  \n",
            "max          13.000000    1.710000                      4.000000  1680.000000  \n",
            "\n",
            "Train and Test split completed:\n",
            "X_train shape: (142, 13)\n",
            "X_test shape: (36, 13)\n",
            "y_train shape: (142,)\n",
            "y_test shape: (36,)\n"
          ]
        }
      ]
    },
    {
      "cell_type": "code",
      "source": [
        "from sklearn.model_selection import train_test_split\n",
        "\n",
        "# train, test 데이터 분리\n",
        "X_train, X_test, y_train, y_test = train_test_split(\n",
        "    features,  # Feature Data\n",
        "    labels,    # Label Data\n",
        "    test_size=0.2,  # 테스트 데이터 비율 (20%)\n",
        "    random_state=42  # 결과 재현을 위한 랜덤 시드\n",
        ")\n",
        "\n",
        "print(\"Train and Test data shapes:\")\n",
        "print(f\"X_train shape: {X_train.shape}\")\n",
        "print(f\"X_test shape: {X_test.shape}\")\n",
        "print(f\"y_train shape: {y_train.shape}\")\n",
        "print(f\"y_test shape: {y_test.shape}\")"
      ],
      "metadata": {
        "colab": {
          "base_uri": "https://localhost:8080/"
        },
        "id": "h1UuC712u7Dr",
        "outputId": "c0b3557b-5e66-4fdd-917c-046662feca93"
      },
      "execution_count": 43,
      "outputs": [
        {
          "output_type": "stream",
          "name": "stdout",
          "text": [
            "Train and Test data shapes:\n",
            "X_train shape: (142, 13)\n",
            "X_test shape: (36, 13)\n",
            "y_train shape: (142,)\n",
            "y_test shape: (36,)\n"
          ]
        }
      ]
    },
    {
      "cell_type": "code",
      "source": [
        "from sklearn.tree import DecisionTreeClassifier\n",
        "\n",
        "# 모델 생성\n",
        "decision_tree = DecisionTreeClassifier(random_state=42)\n",
        "\n",
        "# 학습\n",
        "decision_tree.fit(X_train, y_train)\n",
        "\n",
        "# 예측\n",
        "y_pred = decision_tree.predict(X_test)\n",
        "\n",
        "# 정확도 계산\n",
        "accuracy = accuracy_score(y_test, y_pred)\n",
        "print(f\"Decision Tree Accuracy: {accuracy:.2f}\")"
      ],
      "metadata": {
        "colab": {
          "base_uri": "https://localhost:8080/"
        },
        "id": "76YEqrztvmRQ",
        "outputId": "a0f278b7-f4a6-4310-c3fd-ab757ca55815"
      },
      "execution_count": 44,
      "outputs": [
        {
          "output_type": "stream",
          "name": "stdout",
          "text": [
            "Decision Tree Accuracy: 0.94\n"
          ]
        }
      ]
    },
    {
      "cell_type": "code",
      "source": [
        "from sklearn.ensemble import RandomForestClassifier\n",
        "\n",
        "# 모델 생성\n",
        "random_forest = RandomForestClassifier(random_state=42)\n",
        "\n",
        "# 학습\n",
        "random_forest.fit(X_train, y_train)\n",
        "\n",
        "# 예측\n",
        "y_pred = random_forest.predict(X_test)\n",
        "\n",
        "# 정확도 계산\n",
        "accuracy = accuracy_score(y_test, y_pred)\n",
        "print(f\"Random Forest Accuracy: {accuracy:.2f}\")"
      ],
      "metadata": {
        "colab": {
          "base_uri": "https://localhost:8080/"
        },
        "id": "xNxrNnsgvnle",
        "outputId": "ad1fe265-6a69-4c24-c56c-dcd2d010af59"
      },
      "execution_count": 45,
      "outputs": [
        {
          "output_type": "stream",
          "name": "stdout",
          "text": [
            "Random Forest Accuracy: 1.00\n"
          ]
        }
      ]
    },
    {
      "cell_type": "markdown",
      "source": [
        "본 건은 accuracy가 1.0으로 너무 높게 나와 의구심이 들 수 있어 확인을 할 필요가 있다."
      ],
      "metadata": {
        "id": "KoibLJjcv4kK"
      }
    },
    {
      "cell_type": "code",
      "source": [
        "from sklearn.svm import SVC\n",
        "\n",
        "svm = SVC(random_state=42)\n",
        "svm.fit(X_train, y_train)\n",
        "y_pred_svm = svm.predict(X_test)\n",
        "\n",
        "accuracy_svm = accuracy_score(y_test, y_pred_svm)\n",
        "f1_svm = f1_score(y_test, y_pred_svm, average='macro')\n",
        "print(f\"SVM - Accuracy: {accuracy_svm:.2f}, F1 Score: {f1_svm:.2f}\")"
      ],
      "metadata": {
        "colab": {
          "base_uri": "https://localhost:8080/"
        },
        "id": "B3kflU6TvnZO",
        "outputId": "df044c4f-d0e6-4cd2-8f5f-ca8aba0bbc39"
      },
      "execution_count": 46,
      "outputs": [
        {
          "output_type": "stream",
          "name": "stdout",
          "text": [
            "SVM - Accuracy: 0.81, F1 Score: 0.76\n"
          ]
        }
      ]
    },
    {
      "cell_type": "code",
      "source": [
        "from sklearn.svm import SVC\n",
        "\n",
        "svm = SVC(random_state=42)\n",
        "svm.fit(X_train, y_train)\n",
        "y_pred_svm = svm.predict(X_test)\n",
        "\n",
        "accuracy_svm = accuracy_score(y_test, y_pred_svm)\n",
        "f1_svm = f1_score(y_test, y_pred_svm, average='macro')\n",
        "print(f\"SVM - Accuracy: {accuracy_svm:.2f}, F1 Score: {f1_svm:.2f}\")"
      ],
      "metadata": {
        "colab": {
          "base_uri": "https://localhost:8080/"
        },
        "id": "9zz4RnodvnHU",
        "outputId": "24e4b3e6-62d6-443e-c23e-00c17f342aab"
      },
      "execution_count": 47,
      "outputs": [
        {
          "output_type": "stream",
          "name": "stdout",
          "text": [
            "SVM - Accuracy: 0.81, F1 Score: 0.76\n"
          ]
        }
      ]
    },
    {
      "cell_type": "code",
      "source": [
        "from sklearn.linear_model import SGDClassifier\n",
        "\n",
        "sgd = SGDClassifier(random_state=42)\n",
        "sgd.fit(X_train, y_train)\n",
        "y_pred_sgd = sgd.predict(X_test)\n",
        "\n",
        "accuracy_sgd = accuracy_score(y_test, y_pred_sgd)\n",
        "f1_sgd = f1_score(y_test, y_pred_sgd, average='macro')\n",
        "print(f\"SGD Classifier - Accuracy: {accuracy_sgd:.2f}, F1 Score: {f1_sgd:.2f}\")"
      ],
      "metadata": {
        "colab": {
          "base_uri": "https://localhost:8080/"
        },
        "id": "En0Y2-MOvmwG",
        "outputId": "85a7481c-f097-4e09-ed50-5409cbbab19f"
      },
      "execution_count": 48,
      "outputs": [
        {
          "output_type": "stream",
          "name": "stdout",
          "text": [
            "SGD Classifier - Accuracy: 0.72, F1 Score: 0.54\n"
          ]
        }
      ]
    },
    {
      "cell_type": "code",
      "source": [
        "# 결과 저장\n",
        "results = {\n",
        "    \"Decision Tree\": f1_dt,\n",
        "    \"Random Forest\": f1_rf,\n",
        "    \"SVM\": f1_svm,\n",
        "    \"SGD Classifier\": f1_sgd,\n",
        "    \"Logistic Regression\": f1_lr\n",
        "}\n",
        "\n",
        "best_model = max(results, key=results.get)\n",
        "print(\"\\nBest Model:\")\n",
        "print(f\"{best_model} with F1 Score: {results[best_model]:.2f}\")"
      ],
      "metadata": {
        "colab": {
          "base_uri": "https://localhost:8080/"
        },
        "id": "f67hMlQFwpny",
        "outputId": "54c677f9-89b6-4593-c28b-f581b94d7d11"
      },
      "execution_count": 49,
      "outputs": [
        {
          "output_type": "stream",
          "name": "stdout",
          "text": [
            "\n",
            "Best Model:\n",
            "Logistic Regression with F1 Score: 0.98\n"
          ]
        }
      ]
    },
    {
      "cell_type": "markdown",
      "source": [
        "와인 data 는 로지스틱 분석방법이 0.98로 높게 나왔기 때문에 로지스틱 분석을 하는 것이 바람직하다."
      ],
      "metadata": {
        "id": "rW-_BSmExFwR"
      }
    },
    {
      "cell_type": "code",
      "source": [],
      "metadata": {
        "id": "ipES5J3dxKjQ"
      },
      "execution_count": null,
      "outputs": []
    }
  ]
}