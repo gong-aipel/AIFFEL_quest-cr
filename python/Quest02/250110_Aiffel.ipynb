{
  "nbformat": 4,
  "nbformat_minor": 0,
  "metadata": {
    "colab": {
      "provenance": [],
      "include_colab_link": true
    },
    "kernelspec": {
      "name": "python3",
      "display_name": "Python 3"
    },
    "language_info": {
      "name": "python"
    }
  },
  "cells": [
    {
      "cell_type": "markdown",
      "metadata": {
        "id": "view-in-github",
        "colab_type": "text"
      },
      "source": [
        "<a href=\"https://colab.research.google.com/github/kindcham/AIFFEL_quest-cr/blob/main/python/Quest02/250110_Aiffel.ipynb\" target=\"_parent\"><img src=\"https://colab.research.google.com/assets/colab-badge.svg\" alt=\"Open In Colab\"/></a>"
      ]
    },
    {
      "cell_type": "code",
      "execution_count": null,
      "metadata": {
        "id": "QYBZ2CBZzt7T"
      },
      "outputs": [],
      "source": []
    },
    {
      "cell_type": "markdown",
      "source": [
        "홍지수) 원미님이랑 같이 설명하면서 코딩하니까 저도 몰랐던 개념들이 더 이해가 잘 되는 것 같습니다. 몇분 남겨두고 완성해서 기쁘네요!"
      ],
      "metadata": {
        "id": "fmgw_xkbLf3X"
      }
    },
    {
      "cell_type": "markdown",
      "source": [
        "최원미) 1~4까지는 단순한 편이라 이해하기 쉬웠는데 5번부터는 내가 딕셔너리와 리스트의 차이를 명확하게 이해하고 있지 못하다는 것을 알게됐다. 리스트는 요소의 나열이고 딕셔너리는 키와 밸류값이 쌍을 이루고있다는 개념만 알 뿐 코딩에 적절히 활용할 능력이 많이 부족한것 같다."
      ],
      "metadata": {
        "id": "Diy-V9pJL5Dl"
      }
    },
    {
      "cell_type": "markdown",
      "source": [
        "# 로직\n",
        "1. 파일 불러온다.\n",
        "2. 소문자 변환 -> lower()\n",
        "3. 기호 제거 -> 정규표현식\n",
        "4. 단어 단위로 분리 -> 띄어쓰기를 기준으로 분리\n",
        "\n",
        "5. 빈도수 체크 -> 존재하는 단어는 +=1, 존재하지 않는 단어는 =1\n",
        "6. 딕셔너리를 밸류 기준으로 내림차순한다 (lambda)\n",
        "7. 정렬 순서대로 딕셔너리에 키를 뽑아서 인덱스 값을 새로운 밸류로 할당한다\n",
        "8. input값을 받는 함수를 만든다"
      ],
      "metadata": {
        "id": "mKiRzP8z0MB2"
      }
    },
    {
      "cell_type": "code",
      "source": [
        "from google.colab import drive\n",
        "drive.mount('/content/drive')"
      ],
      "metadata": {
        "colab": {
          "base_uri": "https://localhost:8080/"
        },
        "id": "q3XV_h9V4-_Q",
        "outputId": "d7d091e1-7bfd-476b-f52e-d8caff4acf2c"
      },
      "execution_count": null,
      "outputs": [
        {
          "output_type": "stream",
          "name": "stdout",
          "text": [
            "Drive already mounted at /content/drive; to attempt to forcibly remount, call drive.mount(\"/content/drive\", force_remount=True).\n"
          ]
        }
      ]
    },
    {
      "cell_type": "markdown",
      "source": [],
      "metadata": {
        "id": "8p2X2YRHKinp"
      }
    },
    {
      "cell_type": "code",
      "source": [
        "import re\n",
        "\n",
        "def vocabToDigit(user_input):\n",
        "  f = open('/content/drive/MyDrive/Colab Notebooks/Avengers.txt', \"r\")\n",
        "  data = f.read()\n",
        "  f.close()\n",
        "\n",
        "  lower_text = data.lower().replace('\\n', '') # 소문자 변환 -> lower(), new line -> 제거\n",
        "  cleaned_text = re.sub(r'[^a-zA-Z0-9\\s]', '', lower_text) # 기호 제거 -> 정규표현식 사용\n",
        "  vocab = cleaned_text.split(' ')\n",
        "\n",
        "  count = dict()\n",
        "  for word in vocab: # 빈도수 체크 -> 존재하는 단어는 +=1, 존재하지 않는 단어는 =1\n",
        "    if word in count:\n",
        "      count[word] += 1\n",
        "    else:\n",
        "      count[word] = 1\n",
        "\n",
        "  sorted_count = sorted(count.items(), key= lambda item:item[1], reverse=True) # 딕셔너리를 밸류 기준으로 내림차순\n",
        "\n",
        "\n",
        "  # 정렬 순서대로 딕셔너리에 키를 뽑아서 인덱스 값을 새로운 밸류로 할당한다.\n",
        "  # sorted_count의 value를 0,1,2,..인덱스로 바꾼다.\n",
        "  result = dict()\n",
        "  for index, (key, value) in enumerate(sorted_count):\n",
        "    result[key] = index\n",
        "\n",
        "  # 사용자 입력 문장 처리\n",
        "    user_input = user_input.lower()  # 소문자로 변환\n",
        "    user_vocab = user_input.split()  # 입력 문장을 단어별로 분리\n",
        "\n",
        "  # 각 단어에 해당하는 인덱스를 찾고, 인덱스들을 순서대로 리스트로 반환\n",
        "  digit_sequence = []\n",
        "  for word in user_vocab:\n",
        "      if word in result:\n",
        "          digit_sequence.append(result[word])  # 해당 단어의 인덱스를 리스트에 추가\n",
        "      else:\n",
        "          digit_sequence.append(-1)  # 만약 단어가 없다면 -1을 추가 (예외 처리)\n",
        "\n",
        "  return digit_sequence"
      ],
      "metadata": {
        "id": "NM5Nn8HAIeyj"
      },
      "execution_count": null,
      "outputs": []
    },
    {
      "cell_type": "code",
      "source": [
        "user_input = input(\"Enter a word to search: \")\n",
        "digit_sequence = vocabToDigit(user_input)\n",
        "print(digit_sequence)"
      ],
      "metadata": {
        "colab": {
          "base_uri": "https://localhost:8080/"
        },
        "id": "-c9t4NchKFDN",
        "outputId": "1798ace0-50f0-4342-b612-e31a9a4bb75c"
      },
      "execution_count": null,
      "outputs": [
        {
          "output_type": "stream",
          "name": "stdout",
          "text": [
            "Enter a word to search: I am a boy\n",
            "[4, 127, 3, 829]\n"
          ]
        }
      ]
    }
  ]
}