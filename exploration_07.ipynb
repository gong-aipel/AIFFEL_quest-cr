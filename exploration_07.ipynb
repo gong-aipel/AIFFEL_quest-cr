{
  "nbformat": 4,
  "nbformat_minor": 0,
  "metadata": {
    "colab": {
      "provenance": [],
      "mount_file_id": "13GMLSp0u6sdCjcrJvFTEcsXP7fhvHBk0",
      "authorship_tag": "ABX9TyMmhASnROaDgZAoMCX/FCAN",
      "include_colab_link": true
    },
    "kernelspec": {
      "name": "python3",
      "display_name": "Python 3"
    },
    "language_info": {
      "name": "python"
    }
  },
  "cells": [
    {
      "cell_type": "markdown",
      "metadata": {
        "id": "view-in-github",
        "colab_type": "text"
      },
      "source": [
        "<a href=\"https://colab.research.google.com/github/gong-aipel/AIFFEL_quest-cr/blob/main/exploration_07.ipynb\" target=\"_parent\"><img src=\"https://colab.research.google.com/assets/colab-badge.svg\" alt=\"Open In Colab\"/></a>"
      ]
    },
    {
      "cell_type": "code",
      "source": [
        "# 우선 설치\n",
        "!pip install keras-tuner --quiet\n",
        "\n",
        "# 이후 import\n",
        "import keras_tuner as kt\n"
      ],
      "metadata": {
        "colab": {
          "base_uri": "https://localhost:8080/"
        },
        "id": "YLe6eMdeUuXS",
        "outputId": "a83f0a7d-f1f2-48bc-8867-ee0ee6adf26c"
      },
      "execution_count": 2,
      "outputs": [
        {
          "output_type": "stream",
          "name": "stdout",
          "text": [
            "\u001b[?25l   \u001b[90m━━━━━━━━━━━━━━━━━━━━━━━━━━━━━━━━━━━━━━━━\u001b[0m \u001b[32m0.0/129.1 kB\u001b[0m \u001b[31m?\u001b[0m eta \u001b[36m-:--:--\u001b[0m\r\u001b[2K   \u001b[91m━━━━━━━━━━━━━━━━━━━━━━━━━━━━\u001b[0m\u001b[91m╸\u001b[0m\u001b[90m━━━━━━━━━━━\u001b[0m \u001b[32m92.2/129.1 kB\u001b[0m \u001b[31m2.5 MB/s\u001b[0m eta \u001b[36m0:00:01\u001b[0m\r\u001b[2K   \u001b[90m━━━━━━━━━━━━━━━━━━━━━━━━━━━━━━━━━━━━━━━━\u001b[0m \u001b[32m129.1/129.1 kB\u001b[0m \u001b[31m2.4 MB/s\u001b[0m eta \u001b[36m0:00:00\u001b[0m\n",
            "\u001b[?25h"
          ]
        }
      ]
    },
    {
      "cell_type": "code",
      "execution_count": 6,
      "metadata": {
        "colab": {
          "base_uri": "https://localhost:8080/"
        },
        "id": "hMFP1YUgT8BG",
        "outputId": "764839d6-6cd5-441c-a50b-e4eeb8ae11c2"
      },
      "outputs": [
        {
          "output_type": "stream",
          "name": "stdout",
          "text": [
            "Reloading Tuner from tuner_dir/cifar10/tuner0.json\n",
            "Best hyperparameters: {'conv1_filters': 32, 'conv2_filters': 128, 'dense_units': 32, 'learning_rate': 0.001, 'tuner/epochs': 5, 'tuner/initial_epoch': 2, 'tuner/bracket': 1, 'tuner/round': 1, 'tuner/trial_id': '0002'}\n",
            "Epoch 1/10\n",
            "\u001b[1m1407/1407\u001b[0m \u001b[32m━━━━━━━━━━━━━━━━━━━━\u001b[0m\u001b[37m\u001b[0m \u001b[1m96s\u001b[0m 67ms/step - accuracy: 0.3234 - loss: 1.8184 - val_accuracy: 0.5434 - val_loss: 1.2895\n",
            "Epoch 2/10\n",
            "\u001b[1m1407/1407\u001b[0m \u001b[32m━━━━━━━━━━━━━━━━━━━━\u001b[0m\u001b[37m\u001b[0m \u001b[1m139s\u001b[0m 65ms/step - accuracy: 0.5657 - loss: 1.2214 - val_accuracy: 0.6212 - val_loss: 1.0698\n",
            "Epoch 3/10\n",
            "\u001b[1m1407/1407\u001b[0m \u001b[32m━━━━━━━━━━━━━━━━━━━━\u001b[0m\u001b[37m\u001b[0m \u001b[1m143s\u001b[0m 66ms/step - accuracy: 0.6355 - loss: 1.0408 - val_accuracy: 0.6686 - val_loss: 0.9497\n",
            "Epoch 4/10\n",
            "\u001b[1m1407/1407\u001b[0m \u001b[32m━━━━━━━━━━━━━━━━━━━━\u001b[0m\u001b[37m\u001b[0m \u001b[1m140s\u001b[0m 65ms/step - accuracy: 0.6780 - loss: 0.9251 - val_accuracy: 0.6696 - val_loss: 0.9405\n",
            "Epoch 5/10\n",
            "\u001b[1m1407/1407\u001b[0m \u001b[32m━━━━━━━━━━━━━━━━━━━━\u001b[0m\u001b[37m\u001b[0m \u001b[1m140s\u001b[0m 64ms/step - accuracy: 0.6992 - loss: 0.8556 - val_accuracy: 0.6844 - val_loss: 0.9136\n",
            "Epoch 6/10\n",
            "\u001b[1m1407/1407\u001b[0m \u001b[32m━━━━━━━━━━━━━━━━━━━━\u001b[0m\u001b[37m\u001b[0m \u001b[1m92s\u001b[0m 65ms/step - accuracy: 0.7261 - loss: 0.7815 - val_accuracy: 0.7060 - val_loss: 0.8437\n",
            "Epoch 7/10\n",
            "\u001b[1m1407/1407\u001b[0m \u001b[32m━━━━━━━━━━━━━━━━━━━━\u001b[0m\u001b[37m\u001b[0m \u001b[1m143s\u001b[0m 66ms/step - accuracy: 0.7439 - loss: 0.7283 - val_accuracy: 0.6898 - val_loss: 0.9184\n",
            "Epoch 8/10\n",
            "\u001b[1m1407/1407\u001b[0m \u001b[32m━━━━━━━━━━━━━━━━━━━━\u001b[0m\u001b[37m\u001b[0m \u001b[1m138s\u001b[0m 64ms/step - accuracy: 0.7667 - loss: 0.6656 - val_accuracy: 0.7250 - val_loss: 0.8003\n",
            "Epoch 9/10\n",
            "\u001b[1m1407/1407\u001b[0m \u001b[32m━━━━━━━━━━━━━━━━━━━━\u001b[0m\u001b[37m\u001b[0m \u001b[1m165s\u001b[0m 80ms/step - accuracy: 0.7797 - loss: 0.6279 - val_accuracy: 0.7234 - val_loss: 0.8050\n",
            "Epoch 10/10\n",
            "\u001b[1m1407/1407\u001b[0m \u001b[32m━━━━━━━━━━━━━━━━━━━━\u001b[0m\u001b[37m\u001b[0m \u001b[1m97s\u001b[0m 69ms/step - accuracy: 0.7918 - loss: 0.5862 - val_accuracy: 0.7230 - val_loss: 0.8180\n"
          ]
        },
        {
          "output_type": "execute_result",
          "data": {
            "text/plain": [
              "<keras.src.callbacks.history.History at 0x79253ede7ed0>"
            ]
          },
          "metadata": {},
          "execution_count": 6
        }
      ],
      "source": [
        "import tensorflow as tf\n",
        "from tensorflow.keras import layers, models\n",
        "from tensorflow.keras.datasets import cifar10\n",
        "import keras_tuner as kt\n",
        "import numpy as np\n",
        "import os\n",
        "\n",
        "# ✅ CIFAR-10 데이터 로드 및 정규화\n",
        "(x_train, y_train), (x_test, y_test) = cifar10.load_data()\n",
        "x_train, x_test = x_train / 255.0, x_test / 255.0\n",
        "\n",
        "# ✅ 모델 빌더 정의\n",
        "def model_builder(hp):\n",
        "    model = models.Sequential()\n",
        "    model.add(layers.Input(shape=(32, 32, 3)))\n",
        "\n",
        "    # Conv Layer 1\n",
        "    hp_filters1 = hp.Choice('conv1_filters', [32, 64])\n",
        "    model.add(layers.Conv2D(hp_filters1, (3, 3), activation='relu'))\n",
        "    model.add(layers.MaxPooling2D((2, 2)))\n",
        "\n",
        "    # Conv Layer 2\n",
        "    hp_filters2 = hp.Choice('conv2_filters', [64, 128])\n",
        "    model.add(layers.Conv2D(hp_filters2, (3, 3), activation='relu'))\n",
        "    model.add(layers.MaxPooling2D((2, 2)))\n",
        "\n",
        "    # Conv Layer 3\n",
        "    model.add(layers.Conv2D(64, (3, 3), activation='relu'))\n",
        "    model.add(layers.Flatten())\n",
        "\n",
        "    # Dense Layer\n",
        "    hp_units = hp.Int('dense_units', min_value=32, max_value=128, step=32)\n",
        "    model.add(layers.Dense(units=hp_units, activation='relu'))\n",
        "\n",
        "    # Output Layer\n",
        "    model.add(layers.Dense(10))\n",
        "\n",
        "    # Compile\n",
        "    hp_learning_rate = hp.Choice('learning_rate', [1e-2, 1e-3])\n",
        "    model.compile(optimizer=tf.keras.optimizers.Adam(learning_rate=hp_learning_rate),\n",
        "                  loss=tf.keras.losses.SparseCategoricalCrossentropy(from_logits=True),\n",
        "                  metrics=['accuracy'])\n",
        "    return model\n",
        "\n",
        "# ✅ 튜너 설정\n",
        "tuner = kt.Hyperband(model_builder,\n",
        "                     objective='val_accuracy',\n",
        "                     max_epochs=5,\n",
        "                     factor=3,\n",
        "                     directory='tuner_dir',\n",
        "                     project_name='cifar10')\n",
        "\n",
        "# ✅ 콜백 설정 (학습 로그 간소화)\n",
        "stop_early = tf.keras.callbacks.EarlyStopping(monitor='val_loss', patience=3)\n",
        "\n",
        "# ✅ 튜닝 수행\n",
        "tuner.search(x_train, y_train, epochs=10, validation_split=0.1, callbacks=[stop_early])\n",
        "\n",
        "# ✅ 최적 모델 가져오기\n",
        "best_hps = tuner.get_best_hyperparameters(num_trials=1)[0]\n",
        "print(f\"Best hyperparameters: {best_hps.values}\")\n",
        "\n",
        "# ✅ 최적 모델 재학습\n",
        "model = tuner.hypermodel.build(best_hps)\n",
        "model.fit(x_train, y_train, epochs=10, validation_split=0.1)\n",
        "\n"
      ]
    },
    {
      "cell_type": "code",
      "source": [
        "# ✅ SavedModel 저장\n",
        "saved_model_dir = \"cifar10_best_model.keras\"\n",
        "model.save(saved_model_dir)\n",
        "model = tf.keras.models.load_model(saved_model_dir)\n",
        "\n",
        "# ✅ TFLite 변환 및 저장\n",
        "#'/content'\n",
        "converter = tf.lite.TFLiteConverter.from_keras_model(model) # 모델\n",
        "#converter = tf.lite.TFLiteConverter.from_saved_model(saved_model_dir)\n",
        "tflite_model = converter.convert()\n",
        "with open(\"cifar10_best_model.tflite\", \"wb\") as f:\n",
        "    f.write(tflite_model)\n",
        "\n",
        "# ✅ TFLite 서명 확인\n",
        "interpreter = tf.lite.Interpreter(model_path=\"cifar10_best_model.tflite\")\n",
        "interpreter.allocate_tensors()\n",
        "print(\"TFLite inputs:\", interpreter.get_input_details())\n",
        "print(\"TFLite outputs:\", interpreter.get_output_details())"
      ],
      "metadata": {
        "colab": {
          "base_uri": "https://localhost:8080/"
        },
        "id": "grwrFlJ4qnfl",
        "outputId": "96a00374-2a8b-450d-aef1-ce47947d1e6b"
      },
      "execution_count": 7,
      "outputs": [
        {
          "output_type": "stream",
          "name": "stdout",
          "text": [
            "Saved artifact at '/tmp/tmp1fctiqo8'. The following endpoints are available:\n",
            "\n",
            "* Endpoint 'serve'\n",
            "  args_0 (POSITIONAL_ONLY): TensorSpec(shape=(None, 32, 32, 3), dtype=tf.float32, name='input_layer_2')\n",
            "Output Type:\n",
            "  TensorSpec(shape=(None, 10), dtype=tf.float32, name=None)\n",
            "Captures:\n",
            "  133200874565328: TensorSpec(shape=(), dtype=tf.resource, name=None)\n",
            "  133200874554384: TensorSpec(shape=(), dtype=tf.resource, name=None)\n",
            "  133200874563216: TensorSpec(shape=(), dtype=tf.resource, name=None)\n",
            "  133200874553616: TensorSpec(shape=(), dtype=tf.resource, name=None)\n",
            "  133200874554576: TensorSpec(shape=(), dtype=tf.resource, name=None)\n",
            "  133200874565520: TensorSpec(shape=(), dtype=tf.resource, name=None)\n",
            "  133200874553808: TensorSpec(shape=(), dtype=tf.resource, name=None)\n",
            "  133200874568784: TensorSpec(shape=(), dtype=tf.resource, name=None)\n",
            "  133200874569168: TensorSpec(shape=(), dtype=tf.resource, name=None)\n",
            "  133200874568208: TensorSpec(shape=(), dtype=tf.resource, name=None)\n",
            "TFLite inputs: [{'name': 'serving_default_input_layer_2:0', 'index': 0, 'shape': array([ 1, 32, 32,  3], dtype=int32), 'shape_signature': array([-1, 32, 32,  3], dtype=int32), 'dtype': <class 'numpy.float32'>, 'quantization': (0.0, 0), 'quantization_parameters': {'scales': array([], dtype=float32), 'zero_points': array([], dtype=int32), 'quantized_dimension': 0}, 'sparsity_parameters': {}}]\n",
            "TFLite outputs: [{'name': 'StatefulPartitionedCall_1:0', 'index': 19, 'shape': array([ 1, 10], dtype=int32), 'shape_signature': array([-1, 10], dtype=int32), 'dtype': <class 'numpy.float32'>, 'quantization': (0.0, 0), 'quantization_parameters': {'scales': array([], dtype=float32), 'zero_points': array([], dtype=int32), 'quantized_dimension': 0}, 'sparsity_parameters': {}}]\n"
          ]
        }
      ]
    }
  ]
}